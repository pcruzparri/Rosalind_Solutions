{
 "cells": [
  {
   "cell_type": "code",
   "execution_count": 1,
   "id": "b9dc9f30",
   "metadata": {},
   "outputs": [
    {
     "data": {
      "text/plain": [
       "'34 2'"
      ]
     },
     "execution_count": 1,
     "metadata": {},
     "output_type": "execute_result"
    }
   ],
   "source": [
    "# Read Data\n",
    "data_path = 'rosalind_fib.txt'\n",
    "\n",
    "with open('rosalind_fib.txt') as f:\n",
    "    data = [i.strip() for i in f.readlines()][0]\n",
    "data"
   ]
  },
  {
   "cell_type": "code",
   "execution_count": 2,
   "id": "27337cb9",
   "metadata": {},
   "outputs": [],
   "source": [
    "# Solution\n",
    "solution_path = 'rosalind_fib_solution.txt'\n",
    "solution = []\n",
    "\n",
    "n_months, k_pairs = list(map(int, data.split()))\n",
    "\n",
    "def fib_bunnies_recursive(months, k): # standard fib alg for k=1\n",
    "    if months == 0:\n",
    "        return 0\n",
    "    if months == 1 or months == 2:\n",
    "        return 1\n",
    "    else:\n",
    "        return fib_bunnies(months-1, k) + fib_bunnies(months-2, k)*k\n",
    "\n",
    "def fib_bunnies_dynamic(months, k): # standard fib algorithm for fib = 1\n",
    "    pop = [0, 1, 1] # list to store prev results for dynamic programing\n",
    "    if 0<=months<=2:\n",
    "        return pop[months]\n",
    "    else:\n",
    "        for m in range(3, months+1):\n",
    "            pop = pop[1:]+[pop[-1]+pop[-2]*k] #keep the list small for mem efficiency\n",
    "        return pop[-1]\n",
    "\n",
    "solution.append(str(fib_bunnies_dynamic(n_months, k_pairs)))\n",
    "\n",
    "with open(solution_path, 'w') as f:\n",
    "    f.writelines(solution)   "
   ]
  },
  {
   "cell_type": "code",
   "execution_count": 3,
   "id": "33eef496-b608-4fbf-8650-9580f1a9e0ea",
   "metadata": {},
   "outputs": [
    {
     "data": {
      "text/plain": [
       "['5726623061']"
      ]
     },
     "execution_count": 3,
     "metadata": {},
     "output_type": "execute_result"
    }
   ],
   "source": [
    "solution"
   ]
  },
  {
   "cell_type": "code",
   "execution_count": null,
   "id": "03e17303-5d11-434b-a393-993314bd246f",
   "metadata": {},
   "outputs": [],
   "source": []
  }
 ],
 "metadata": {
  "kernelspec": {
   "display_name": "Python 3 (ipykernel)",
   "language": "python",
   "name": "python3"
  },
  "language_info": {
   "codemirror_mode": {
    "name": "ipython",
    "version": 3
   },
   "file_extension": ".py",
   "mimetype": "text/x-python",
   "name": "python",
   "nbconvert_exporter": "python",
   "pygments_lexer": "ipython3",
   "version": "3.12.7"
  }
 },
 "nbformat": 4,
 "nbformat_minor": 5
}
