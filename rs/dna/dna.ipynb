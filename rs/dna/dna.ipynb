{
 "cells": [
  {
   "cell_type": "code",
   "execution_count": 1,
   "id": "faa8f86b-c8c1-4396-add5-44be62779316",
   "metadata": {},
   "outputs": [],
   "source": [
    "# Open data\n",
    "data_path = \"rosalind_dna.txt\"\n",
    "\n",
    "with open(data_path, 'r') as f:\n",
    "    dna = f.readline().strip()"
   ]
  },
  {
   "cell_type": "code",
   "execution_count": 2,
   "id": "b232c965-4ce6-4d15-bc51-441d09e5f926",
   "metadata": {},
   "outputs": [],
   "source": [
    "# Solution\n",
    "solution_path = data_path.strip('.txt') + '_solution.txt'\n",
    "\n",
    "with open(solution_path, 'w') as f: \n",
    "    f.write(f'{dna.count('A')} {dna.count('C')} {dna.count('G')} {dna.count('T')}')"
   ]
  },
  {
   "cell_type": "code",
   "execution_count": null,
   "id": "aaabe96b-19a6-4e7d-8508-91379387b833",
   "metadata": {},
   "outputs": [],
   "source": []
  }
 ],
 "metadata": {
  "kernelspec": {
   "display_name": "Python 3 (ipykernel)",
   "language": "python",
   "name": "python3"
  },
  "language_info": {
   "codemirror_mode": {
    "name": "ipython",
    "version": 3
   },
   "file_extension": ".py",
   "mimetype": "text/x-python",
   "name": "python",
   "nbconvert_exporter": "python",
   "pygments_lexer": "ipython3",
   "version": "3.12.7"
  }
 },
 "nbformat": 4,
 "nbformat_minor": 5
}
