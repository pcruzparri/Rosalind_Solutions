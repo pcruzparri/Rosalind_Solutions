{
 "cells": [
  {
   "cell_type": "code",
   "execution_count": 1,
   "id": "a0ff6804",
   "metadata": {},
   "outputs": [],
   "source": [
    "# Read Data\n",
    "data_path = 'rosalind_revc.txt'\n",
    "\n",
    "with open('rosalind_revc.txt', 'r') as f:\n",
    "    data = [i.strip() for i in f.readlines()][0]\n",
    "#data"
   ]
  },
  {
   "cell_type": "code",
   "execution_count": 2,
   "id": "75ab6be5",
   "metadata": {},
   "outputs": [],
   "source": [
    "# Solution\n",
    "solution_path = 'rosalind_revc_solution.txt'\n",
    "solution = []\n",
    "\n",
    "transmat = {\"A\":\"T\", \"T\":\"A\", \"C\":\"G\", \"G\":\"C\"}\n",
    "solution.append(''.join([transmat[data[-i]] for i in range(1,len(data)+1)]))\n",
    "\n",
    "with open(solution_path, 'w') as f:\n",
    "    f.write(solution[0])"
   ]
  },
  {
   "cell_type": "code",
   "execution_count": null,
   "id": "7e47b28d-79f0-43da-a39b-f7f20e62d3ad",
   "metadata": {},
   "outputs": [],
   "source": []
  }
 ],
 "metadata": {
  "kernelspec": {
   "display_name": "Python 3 (ipykernel)",
   "language": "python",
   "name": "python3"
  },
  "language_info": {
   "codemirror_mode": {
    "name": "ipython",
    "version": 3
   },
   "file_extension": ".py",
   "mimetype": "text/x-python",
   "name": "python",
   "nbconvert_exporter": "python",
   "pygments_lexer": "ipython3",
   "version": "3.12.7"
  }
 },
 "nbformat": 4,
 "nbformat_minor": 5
}
