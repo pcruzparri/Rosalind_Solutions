{
 "cells": [
  {
   "cell_type": "code",
   "execution_count": null,
   "id": "5a3b77ae",
   "metadata": {},
   "outputs": [],
   "source": [
    "# Read Data\n",
    "data_path = 'rosalind_prot.txt'\n",
    "\n",
    "with open('rosalind_prot.txt') as f:\n",
    "\tdata = [i.strip() for i in f.readlines()][0]\n",
    "data"
   ]
  },
  {
   "cell_type": "code",
   "execution_count": null,
   "id": "9c4f9d11",
   "metadata": {},
   "outputs": [],
   "source": [
    "# Solution\n",
    "solution_path = 'rosalind_prot_solution.txt'\n",
    "solution = []\n",
    "\n",
    "# Provided in the problem. From Wikipedia.\n",
    "rna_codon_table = \"\"\"\n",
    "UUU F      CUU L      AUU I      GUU V\n",
    "UUC F      CUC L      AUC I      GUC V\n",
    "UUA L      CUA L      AUA I      GUA V\n",
    "UUG L      CUG L      AUG M      GUG V\n",
    "UCU S      CCU P      ACU T      GCU A\n",
    "UCC S      CCC P      ACC T      GCC A\n",
    "UCA S      CCA P      ACA T      GCA A\n",
    "UCG S      CCG P      ACG T      GCG A\n",
    "UAU Y      CAU H      AAU N      GAU D\n",
    "UAC Y      CAC H      AAC N      GAC D\n",
    "UAA Stop   CAA Q      AAA K      GAA E\n",
    "UAG Stop   CAG Q      AAG K      GAG E\n",
    "UGU C      CGU R      AGU S      GGU G\n",
    "UGC C      CGC R      AGC S      GGC G\n",
    "UGA Stop   CGA R      AGA R      GGA G\n",
    "UGG W      CGG R      AGG R      GGG G \n",
    "\"\"\"\n",
    "\n",
    "split_to_cols = rna_codon_table.split()\n",
    "rna_codon_table = {split_to_cols[i]: split_to_cols[i+1] for i in range(0,len(split_to_cols),2)}\n",
    "\n",
    "solution.append(''.join([x for i in range(0, len(data), 3) if (x := rna_codon_table[data[i: i+3]]) != \"Stop\"]))\n",
    "\n",
    "with open(solution_path, 'w') as f:\n",
    "\tf.writelines(solution)"
   ]
  },
  {
   "cell_type": "code",
   "execution_count": null,
   "id": "30f40813",
   "metadata": {},
   "outputs": [],
   "source": []
  }
 ],
 "metadata": {
  "kernelspec": {
   "display_name": "pyms_kernel",
   "language": "python",
   "name": "pyms_kernel"
  },
  "language_info": {
   "codemirror_mode": {
    "name": "ipython",
    "version": 3
   },
   "file_extension": ".py",
   "mimetype": "text/x-python",
   "name": "python",
   "nbconvert_exporter": "python",
   "pygments_lexer": "ipython3",
   "version": "3.11.9"
  }
 },
 "nbformat": 4,
 "nbformat_minor": 5
}
