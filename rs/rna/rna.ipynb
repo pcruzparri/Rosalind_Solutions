{
 "cells": [
  {
   "cell_type": "code",
   "execution_count": 3,
   "id": "d801dd4e-29d6-4ff1-87ac-ec25ebfc541f",
   "metadata": {},
   "outputs": [],
   "source": [
    "# Get data\n",
    "data_path = 'rosalind_rna.txt'\n",
    "\n",
    "with open(data_path) as f:\n",
    "    dna = f.readline().strip()"
   ]
  },
  {
   "cell_type": "code",
   "execution_count": 4,
   "id": "ce9f15d6-19fb-431b-80be-214eab2fa750",
   "metadata": {},
   "outputs": [
    {
     "data": {
      "text/plain": [
       "'CUAGGGCUCGGAGGGCCCUGAACCCAUGCCCUUACGGAAUAGCGCUGGCUAUCGACGCACCCCCUCAGUGCACGUACACUUUAUAUAGAGCCGACGUGGUCGACUGCUCACUUCACGAUAGUAGAUAUUAGCGGGGGUAUUCCUGUUUGGUAAGUUCCAAUAACACGUAGUUUCCGUUAGUGUGCGGUGGCUUUGUAACAUCUAGGCCCCCAAACUGAGUGCCCAUACCAUCUUUUAGCACGGCCGCAUAAAUCCCAAGAUACCUUUCAGUUCGUUGAACCCAAGGAAGGGGGCACUCCUAAGUAGGUUCGCAUAGAUGUAUCAAGUAUUUUUCACUCGCGACUGAUUACCCCGACUCUGGUAGCCCUACUAUGGGCUAAUUUACUGAAUCAGCUCACUGAAGAUAAAAGAUGGUCUGUUAGAUGCAGCCGUCUGCGAAGUCAGAGUGCGUUGGGUUCGCGAUCUUCUUAGCACAGCGCAGGAUACCUAAUGCGCUCCAUUAGGCAAAUCGUCAGUGGAAAUUGUGUUCCAUACUACUAAGCUCGACUCGAAAACCGUUGCCCUACCAAAAUCUGAUGGCGAGCGAGUACCGUCGGGUAUUAAGAGUCAGCCAAACCUGCUCACGUACGAUAUCAAGCAUCCGUCUACGACGGUUCUCAGUGGCAAACGACCGUCAAGGAGGGGUCAUGUGGUAGAGCUGGUUAUUGAUUUGGUCGGGGGCCACACAAUGUUCACGCUCGCUUGGCAUCUAUCACGCCGUUCAUACCAAUAAUGCCAAGAGAAUGCAAUGUUGUGUGAACUCCAAGUAAACUGGAAUAAGCAUUACUACGUACCACCCUGGUACUGAAAAAUUAUAUACAGUCAACUCUACUUUCGAUGAUAGUCGGGGUGGAUCUGUAAGAUAGGACGGUAUAACUAAA'"
      ]
     },
     "execution_count": 4,
     "metadata": {},
     "output_type": "execute_result"
    }
   ],
   "source": [
    "# Solution\n",
    "rna2dna_transmat = str.maketrans('T', 'U')\n",
    "rna = dna.translate(rna2dna_transmat)\n",
    "\n",
    "solution_path = data_path.strip('.txt') + '_solution.txt'\n",
    "with open(solution_path, 'w') as f:\n",
    "    f.write(rna)\n",
    "rna"
   ]
  },
  {
   "cell_type": "code",
   "execution_count": null,
   "id": "52121df0-9713-4295-a3a4-47c43bb88886",
   "metadata": {},
   "outputs": [],
   "source": []
  }
 ],
 "metadata": {
  "kernelspec": {
   "display_name": "Python 3 (ipykernel)",
   "language": "python",
   "name": "python3"
  },
  "language_info": {
   "codemirror_mode": {
    "name": "ipython",
    "version": 3
   },
   "file_extension": ".py",
   "mimetype": "text/x-python",
   "name": "python",
   "nbconvert_exporter": "python",
   "pygments_lexer": "ipython3",
   "version": "3.12.7"
  }
 },
 "nbformat": 4,
 "nbformat_minor": 5
}
