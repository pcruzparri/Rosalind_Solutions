{
 "cells": [
  {
   "cell_type": "code",
   "execution_count": 1,
   "id": "48c5d7c1",
   "metadata": {},
   "outputs": [
    {
     "data": {
      "text/plain": [
       "['GTGATGACATAAATGATGACGATGATGACGACACGTGATGACGGTGATGACTGATGACGTGATGACCTTGTGATGACAACTAGGACGTGATGACCTGTCATGATGACTTTACTGATGACCATGATGACTTGTGTGATGACTGGTGATGACCTGATGACCTTAAGTGATGACCCTGTCTGATGACGTGATGACTGATGACCTGATGACTTGATGACTGATGACTGATGACTGCTGATGACTGATGACCTGATGACCACTTGATGACATGTAACGCGTGATGACTGATGACGTGATGACTGTGATGACTTTATGATGACCCTGATGACCTTGATGACCGTCTGATGACACAGATGATGACTGATGACTTGATGACTGATGACTGATGACGACTGATGACTTGATGACGCGTTAGCTGATGACTTTGATGACAGTGATGACGACTGATGACATGATGACCAGTTGATGACCTAAGTGTTGATGACCTGATGACGCGTAATGATGACCTGATGACCATATGATGACCCTGATGACAATTCAAACTCCTGATGACTGATGACATGAGAATGATGATGACACAACATCTATGATGACCTCATTATTGATGACTTGATGACTGATGACCTGCTGATGACTTTGATGACTGATGACGCCTGATGACATGATGACTGATGACAATTGATGACGGCAATACTTGCCTGTGATGACTGATGACTGATGACTGATGACATGATGACTGATGACTGATTTGATGACTCATTGATGACATGCACTACCTGATGACTTGATGACCCTGATGACTGATGACGGCAAGTCGATCCGTGATGACACATGATGAC',\n",
       " 'TGATGACTG']"
      ]
     },
     "execution_count": 1,
     "metadata": {},
     "output_type": "execute_result"
    }
   ],
   "source": [
    "# Read Data\n",
    "data_path = 'rosalind_subs.txt'\n",
    "\n",
    "with open('rosalind_subs.txt') as f:\n",
    "\tdata = [i.strip() for i in f.readlines()]\n",
    "data"
   ]
  },
  {
   "cell_type": "code",
   "execution_count": 2,
   "id": "bc473758",
   "metadata": {},
   "outputs": [],
   "source": [
    "# Solution\n",
    "solution_path = 'rosalind_subs_solution.txt'\n",
    "solution = []\n",
    "\n",
    "parent, motif = data[0], data[1]\n",
    "positions = []\n",
    "i=0 # parent index\n",
    "\n",
    "while i < len(parent):\n",
    "\tif parent[i]==motif[0] and i+len(motif)<len(parent):\n",
    "\t\tif parent[i:i+len(motif)]==motif:\n",
    "\t\t\tpositions.append(i+1)\n",
    "\ti+=1\n",
    "\n",
    "solution = ' '.join(map(str, positions))\n",
    "with open(solution_path, 'w') as f:\n",
    "\tf.writelines(solution)"
   ]
  }
 ],
 "metadata": {
  "kernelspec": {
   "display_name": "pyms_kernel",
   "language": "python",
   "name": "pyms_kernel"
  },
  "language_info": {
   "codemirror_mode": {
    "name": "ipython",
    "version": 3
   },
   "file_extension": ".py",
   "mimetype": "text/x-python",
   "name": "python",
   "nbconvert_exporter": "python",
   "pygments_lexer": "ipython3",
   "version": "3.11.9"
  }
 },
 "nbformat": 4,
 "nbformat_minor": 5
}
