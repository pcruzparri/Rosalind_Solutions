{
 "cells": [
  {
   "cell_type": "code",
   "execution_count": 16,
   "id": "fb472c10",
   "metadata": {},
   "outputs": [
    {
     "data": {
      "text/plain": [
       "'19 27 22'"
      ]
     },
     "execution_count": 16,
     "metadata": {},
     "output_type": "execute_result"
    }
   ],
   "source": [
    "# Read Data\n",
    "data_path = 'rosalind_iprb.txt'\n",
    "\n",
    "with open('rosalind_iprb.txt') as f:\n",
    "\tdata = [i.strip() for i in f.readlines()][0]\n",
    "data"
   ]
  },
  {
   "cell_type": "code",
   "execution_count": null,
   "id": "01f9aef4",
   "metadata": {},
   "outputs": [],
   "source": [
    "# Solution\n",
    "solution_path = 'rosalind_iprb_solution.txt'\n",
    "solution = []\n",
    "\n",
    "def create_choice_prob_matrix(dom, het, rec):\n",
    "\ttotal = dom + het + rec\n",
    "\tamt_list = [dom, het, rec]\n",
    "\tchoice_prob_mat = [[None for i in range(3)] for i in range(3)]\n",
    "\tfor i in range(3):\n",
    "\t\tfor j in range(3):\n",
    "\t\t\t\"\"\"\n",
    "\t\t\tThe probability of the diagonals is given by: \n",
    "\t\t\t   original_amount_of_X   .   original_amount_of_X - 1\n",
    "\t\t\t   --------------------\t      ------------------------   =   P_diag\n",
    "\t\t\t      population_size\t\t\t population_size - 1\n",
    "\t\t\t\n",
    "\t\t\tThe probability of the off diagonals is given by:\n",
    "\t\t\t   original_amount_of_X   .   original_amount_of_X\n",
    "\t\t\t   --------------------\t      --------------------   =   P_offdiag\n",
    "\t\t\t      population_size\t\t   population_size - 1\n",
    "\t\t\t\"\"\"\n",
    "\t\t\tchoice_prob_mat[i][j] = amt_list[i]/total * (amt_list[j]-0**(not i==j))/(total-1) \n",
    "\treturn choice_prob_mat\n",
    "\n",
    "punnet_outcome_mat = [[1, \t1, \t\t1\t],\n",
    "\t\t\t\t\t  [1, \t0.75, \t0.5\t],\n",
    "\t\t\t\t\t  [1, \t0.5, \t0\t]]\n",
    "\n",
    "choice_prob_mat = create_choice_prob_matrix(*map(int, data.split()))\n",
    "running_total = 0\n",
    "for i in range(3): \n",
    "\tfor j in range(3):\n",
    "\t\trunning_total += punnet_outcome_mat[i][j]*choice_prob_mat[i][j]\n",
    "\n",
    "solution.append(str(running_total))\n",
    "\n",
    "\n",
    "with open(solution_path, 'w') as f:\n",
    "\tf.writelines(solution)"
   ]
  },
  {
   "cell_type": "markdown",
   "id": "0fa59fad",
   "metadata": {},
   "source": [
    "The general approach here is to multiply the probability of the nine possible mating events by the probability of their mating outcome producing an offspring with a dominant allele (from a Punnett square)."
   ]
  },
  {
   "cell_type": "code",
   "execution_count": null,
   "id": "6b7248be",
   "metadata": {},
   "outputs": [],
   "source": []
  }
 ],
 "metadata": {
  "kernelspec": {
   "display_name": "pyms_kernel",
   "language": "python",
   "name": "pyms_kernel"
  },
  "language_info": {
   "codemirror_mode": {
    "name": "ipython",
    "version": 3
   },
   "file_extension": ".py",
   "mimetype": "text/x-python",
   "name": "python",
   "nbconvert_exporter": "python",
   "pygments_lexer": "ipython3",
   "version": "3.11.9"
  }
 },
 "nbformat": 4,
 "nbformat_minor": 5
}
